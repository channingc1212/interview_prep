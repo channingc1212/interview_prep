{
 "cells": [
  {
   "cell_type": "code",
   "execution_count": 1,
   "metadata": {},
   "outputs": [],
   "source": [
    "import pandas as pd\n",
    "import numpy as np\n",
    "import matplotlib.pyplot as plt\n",
    "import seaborn as sns"
   ]
  },
  {
   "cell_type": "code",
   "execution_count": 4,
   "metadata": {},
   "outputs": [
    {
     "data": {
      "text/html": [
       "<div>\n",
       "<style scoped>\n",
       "    .dataframe tbody tr th:only-of-type {\n",
       "        vertical-align: middle;\n",
       "    }\n",
       "\n",
       "    .dataframe tbody tr th {\n",
       "        vertical-align: top;\n",
       "    }\n",
       "\n",
       "    .dataframe thead th {\n",
       "        text-align: right;\n",
       "    }\n",
       "</style>\n",
       "<table border=\"1\" class=\"dataframe\">\n",
       "  <thead>\n",
       "    <tr style=\"text-align: right;\">\n",
       "      <th></th>\n",
       "      <th>order_id</th>\n",
       "      <th>order_date</th>\n",
       "      <th>product_id</th>\n",
       "      <th>quantity</th>\n",
       "      <th>price</th>\n",
       "      <th>customer_id</th>\n",
       "    </tr>\n",
       "  </thead>\n",
       "  <tbody>\n",
       "    <tr>\n",
       "      <th>0</th>\n",
       "      <td>41</td>\n",
       "      <td>2023-01-10</td>\n",
       "      <td>P003</td>\n",
       "      <td>4</td>\n",
       "      <td>20.41</td>\n",
       "      <td>C013</td>\n",
       "    </tr>\n",
       "    <tr>\n",
       "      <th>1</th>\n",
       "      <td>403</td>\n",
       "      <td>2023-01-10</td>\n",
       "      <td>P001</td>\n",
       "      <td>7</td>\n",
       "      <td>47.17</td>\n",
       "      <td>C034</td>\n",
       "    </tr>\n",
       "    <tr>\n",
       "      <th>2</th>\n",
       "      <td>994</td>\n",
       "      <td>2023-01-10</td>\n",
       "      <td>P004</td>\n",
       "      <td>4</td>\n",
       "      <td>81.80</td>\n",
       "      <td>C019</td>\n",
       "    </tr>\n",
       "    <tr>\n",
       "      <th>3</th>\n",
       "      <td>226</td>\n",
       "      <td>2023-01-11</td>\n",
       "      <td>P016</td>\n",
       "      <td>10</td>\n",
       "      <td>115.17</td>\n",
       "      <td>C043</td>\n",
       "    </tr>\n",
       "    <tr>\n",
       "      <th>4</th>\n",
       "      <td>187</td>\n",
       "      <td>2023-01-11</td>\n",
       "      <td>P010</td>\n",
       "      <td>6</td>\n",
       "      <td>144.55</td>\n",
       "      <td>C006</td>\n",
       "    </tr>\n",
       "  </tbody>\n",
       "</table>\n",
       "</div>"
      ],
      "text/plain": [
       "   order_id order_date product_id  quantity   price customer_id\n",
       "0        41 2023-01-10       P003         4   20.41        C013\n",
       "1       403 2023-01-10       P001         7   47.17        C034\n",
       "2       994 2023-01-10       P004         4   81.80        C019\n",
       "3       226 2023-01-11       P016        10  115.17        C043\n",
       "4       187 2023-01-11       P010         6  144.55        C006"
      ]
     },
     "execution_count": 4,
     "metadata": {},
     "output_type": "execute_result"
    }
   ],
   "source": [
    "# Read data\n",
    "df = pd.read_csv('data/sales_data.csv', parse_dates=['order_date'],header=0)\n",
    "df.head()"
   ]
  },
  {
   "cell_type": "code",
   "execution_count": 5,
   "metadata": {},
   "outputs": [
    {
     "name": "stdout",
     "output_type": "stream",
     "text": [
      "<class 'pandas.core.frame.DataFrame'>\n",
      "RangeIndex: 1000 entries, 0 to 999\n",
      "Data columns (total 6 columns):\n",
      " #   Column       Non-Null Count  Dtype         \n",
      "---  ------       --------------  -----         \n",
      " 0   order_id     1000 non-null   int64         \n",
      " 1   order_date   1000 non-null   datetime64[ns]\n",
      " 2   product_id   1000 non-null   object        \n",
      " 3   quantity     1000 non-null   int64         \n",
      " 4   price        1000 non-null   float64       \n",
      " 5   customer_id  1000 non-null   object        \n",
      "dtypes: datetime64[ns](1), float64(1), int64(2), object(2)\n",
      "memory usage: 47.0+ KB\n"
     ]
    }
   ],
   "source": [
    "df.info()"
   ]
  },
  {
   "cell_type": "code",
   "execution_count": 6,
   "metadata": {},
   "outputs": [
    {
     "data": {
      "text/plain": [
       "order_id       0\n",
       "order_date     0\n",
       "product_id     0\n",
       "quantity       0\n",
       "price          0\n",
       "customer_id    0\n",
       "dtype: int64"
      ]
     },
     "execution_count": 6,
     "metadata": {},
     "output_type": "execute_result"
    }
   ],
   "source": [
    "# check missing values\n",
    "df.isnull().sum()"
   ]
  },
  {
   "cell_type": "code",
   "execution_count": 7,
   "metadata": {},
   "outputs": [
    {
     "name": "stdout",
     "output_type": "stream",
     "text": [
      "NaN values: False\n"
     ]
    }
   ],
   "source": [
    "# check if there are other missing values types\n",
    "print(\"NaN values:\", df.isnull().values.any())"
   ]
  },
  {
   "cell_type": "code",
   "execution_count": 8,
   "metadata": {},
   "outputs": [
    {
     "name": "stdout",
     "output_type": "stream",
     "text": [
      "Duplicate values: False\n"
     ]
    }
   ],
   "source": [
    "# check if there are duplicates\n",
    "print(\"Duplicate values:\", df.duplicated().any())"
   ]
  },
  {
   "cell_type": "code",
   "execution_count": 10,
   "metadata": {},
   "outputs": [
    {
     "data": {
      "text/html": [
       "<div>\n",
       "<style scoped>\n",
       "    .dataframe tbody tr th:only-of-type {\n",
       "        vertical-align: middle;\n",
       "    }\n",
       "\n",
       "    .dataframe tbody tr th {\n",
       "        vertical-align: top;\n",
       "    }\n",
       "\n",
       "    .dataframe thead th {\n",
       "        text-align: right;\n",
       "    }\n",
       "</style>\n",
       "<table border=\"1\" class=\"dataframe\">\n",
       "  <thead>\n",
       "    <tr style=\"text-align: right;\">\n",
       "      <th></th>\n",
       "      <th>order_id</th>\n",
       "      <th>order_date</th>\n",
       "      <th>product_id</th>\n",
       "      <th>quantity</th>\n",
       "      <th>price</th>\n",
       "      <th>customer_id</th>\n",
       "      <th>total_revenue</th>\n",
       "    </tr>\n",
       "  </thead>\n",
       "  <tbody>\n",
       "    <tr>\n",
       "      <th>0</th>\n",
       "      <td>41</td>\n",
       "      <td>2023-01-10</td>\n",
       "      <td>P003</td>\n",
       "      <td>4</td>\n",
       "      <td>20.41</td>\n",
       "      <td>C013</td>\n",
       "      <td>81.64</td>\n",
       "    </tr>\n",
       "    <tr>\n",
       "      <th>1</th>\n",
       "      <td>403</td>\n",
       "      <td>2023-01-10</td>\n",
       "      <td>P001</td>\n",
       "      <td>7</td>\n",
       "      <td>47.17</td>\n",
       "      <td>C034</td>\n",
       "      <td>330.19</td>\n",
       "    </tr>\n",
       "    <tr>\n",
       "      <th>2</th>\n",
       "      <td>994</td>\n",
       "      <td>2023-01-10</td>\n",
       "      <td>P004</td>\n",
       "      <td>4</td>\n",
       "      <td>81.80</td>\n",
       "      <td>C019</td>\n",
       "      <td>327.20</td>\n",
       "    </tr>\n",
       "    <tr>\n",
       "      <th>3</th>\n",
       "      <td>226</td>\n",
       "      <td>2023-01-11</td>\n",
       "      <td>P016</td>\n",
       "      <td>10</td>\n",
       "      <td>115.17</td>\n",
       "      <td>C043</td>\n",
       "      <td>1151.70</td>\n",
       "    </tr>\n",
       "    <tr>\n",
       "      <th>4</th>\n",
       "      <td>187</td>\n",
       "      <td>2023-01-11</td>\n",
       "      <td>P010</td>\n",
       "      <td>6</td>\n",
       "      <td>144.55</td>\n",
       "      <td>C006</td>\n",
       "      <td>867.30</td>\n",
       "    </tr>\n",
       "  </tbody>\n",
       "</table>\n",
       "</div>"
      ],
      "text/plain": [
       "   order_id order_date product_id  quantity   price customer_id  total_revenue\n",
       "0        41 2023-01-10       P003         4   20.41        C013          81.64\n",
       "1       403 2023-01-10       P001         7   47.17        C034         330.19\n",
       "2       994 2023-01-10       P004         4   81.80        C019         327.20\n",
       "3       226 2023-01-11       P016        10  115.17        C043        1151.70\n",
       "4       187 2023-01-11       P010         6  144.55        C006         867.30"
      ]
     },
     "execution_count": 10,
     "metadata": {},
     "output_type": "execute_result"
    }
   ],
   "source": [
    "# compute total revenue per order\n",
    "df['total_revenue'] = df['quantity'] * df['price']\n",
    "df.head()"
   ]
  },
  {
   "cell_type": "code",
   "execution_count": 12,
   "metadata": {},
   "outputs": [
    {
     "data": {
      "text/plain": [
       "product_id\n",
       "P020    41258.83\n",
       "P009    35546.36\n",
       "P013    35321.44\n",
       "P014    34577.96\n",
       "P001    31416.23\n",
       "Name: total_revenue, dtype: float64"
      ]
     },
     "execution_count": 12,
     "metadata": {},
     "output_type": "execute_result"
    }
   ],
   "source": [
    "# aggregate sales by product\n",
    "sales_by_product = df.groupby('product_id')['total_revenue'].sum().sort_values(ascending=False)\n",
    "sales_by_product.head()"
   ]
  },
  {
   "cell_type": "code",
   "execution_count": 15,
   "metadata": {},
   "outputs": [
    {
     "data": {
      "text/plain": [
       "order_date\n",
       "2023-08    29603.45\n",
       "2024-03    28851.07\n",
       "2023-10    28712.91\n",
       "2023-11    28149.12\n",
       "2024-12    27360.31\n",
       "Freq: M, Name: total_revenue, dtype: float64"
      ]
     },
     "execution_count": 15,
     "metadata": {},
     "output_type": "execute_result"
    }
   ],
   "source": [
    "sales_by_month = df.groupby(df['order_date'].dt.to_period('M'))['total_revenue'].sum().sort_values(ascending=False)\n",
    "sales_by_month.head()"
   ]
  },
  {
   "cell_type": "code",
   "execution_count": 17,
   "metadata": {},
   "outputs": [
    {
     "data": {
      "image/png": "[encoded data removed]",
      "text/plain": [
       "<Figure size 1000x600 with 1 Axes>"
      ]
     },
     "metadata": {},
     "output_type": "display_data"
    }
   ],
   "source": [
    "# plot monthly sales using matplotlib\n",
    "sales_by_month.index = sales_by_month.index.to_timestamp()\n",
    "plt.figure(figsize=(10, 6))\n",
    "sns.lineplot(x=sales_by_month.index, y=sales_by_month.values)\n",
    "plt.xlabel('Month')\n",
    "plt.ylabel('Total Revenue')\n",
    "plt.title('Monthly Sales')\n",
    "plt.show()"
   ]
  },
  {
   "cell_type": "code",
   "execution_count": 18,
   "metadata": {},
   "outputs": [
    {
     "data": {
      "text/plain": [
       "customer_id\n",
       "C041    18353.20\n",
       "C046    17980.92\n",
       "C048    17791.92\n",
       "C019    17104.86\n",
       "C040    16773.06\n",
       "Name: total_revenue, dtype: float64"
      ]
     },
     "execution_count": 18,
     "metadata": {},
     "output_type": "execute_result"
    }
   ],
   "source": [
    "# Find the top 5 customers in terms of total spending\n",
    "top_5_customers = df.groupby('customer_id')['total_revenue'].sum().nlargest(5)\n",
    "top_5_customers"
   ]
  },
  {
   "cell_type": "code",
   "execution_count": 19,
   "metadata": {},
   "outputs": [
    {
     "data": {
      "text/plain": [
       "customer_id\n",
       "C019    15\n",
       "C040    14\n",
       "C041    15\n",
       "C046    15\n",
       "C048    15\n",
       "Name: product_id, dtype: int64"
      ]
     },
     "execution_count": 19,
     "metadata": {},
     "output_type": "execute_result"
    }
   ],
   "source": [
    "# Count how many unique products each of these top 5 customers purchased\n",
    "top_5_customers_products = df[df['customer_id'].isin(top_5_customers.index)].groupby('customer_id')['product_id'].nunique()\n",
    "top_5_customers_products"
   ]
  }
 ],
 "metadata": {
  "kernelspec": {
   "display_name": "venv",
   "language": "python",
   "name": "python3"
  },
  "language_info": {
   "codemirror_mode": {
    "name": "ipython",
    "version": 3
   },
   "file_extension": ".py",
   "mimetype": "text/x-python",
   "name": "python",
   "nbconvert_exporter": "python",
   "pygments_lexer": "ipython3",
   "version": "3.13.0"
  }
 },
 "nbformat": 4,
 "nbformat_minor": 2
}
