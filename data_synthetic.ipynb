{
 "cells": [
  {
   "cell_type": "code",
   "execution_count": 1,
   "metadata": {},
   "outputs": [],
   "source": [
    "import pandas as pd\n",
    "import numpy as np\n",
    "from faker import Faker\n",
    "import random"
   ]
  },
  {
   "cell_type": "code",
   "execution_count": 2,
   "metadata": {},
   "outputs": [],
   "source": [
    "# 1. Synthetic sales_data.csv\n",
    "def generate_sales_data(num_records=1000):\n",
    "    fake = Faker()\n",
    "    Faker.seed(0)\n",
    "    \n",
    "    product_ids = [f\"P{i:03d}\" for i in range(1, 21)]  # 20 product IDs\n",
    "    customer_ids = [f\"C{i:03d}\" for i in range(1, 51)]  # 50 customer IDs\n",
    "    \n",
    "    data = {\n",
    "        \"order_id\": [],\n",
    "        \"order_date\": [],\n",
    "        \"product_id\": [],\n",
    "        \"quantity\": [],\n",
    "        \"price\": [],\n",
    "        \"customer_id\": []\n",
    "    }\n",
    "    \n",
    "    for i in range(num_records):\n",
    "        data[\"order_id\"].append(i+1)\n",
    "        data[\"order_date\"].append(fake.date_between(start_date=\"-2y\", end_date=\"today\"))\n",
    "        data[\"product_id\"].append(random.choice(product_ids))\n",
    "        data[\"quantity\"].append(random.randint(1, 10))\n",
    "        data[\"price\"].append(round(random.uniform(5, 200), 2))\n",
    "        data[\"customer_id\"].append(random.choice(customer_ids))\n",
    "    \n",
    "    df = pd.DataFrame(data)\n",
    "    # Sort by date if desired\n",
    "    df.sort_values(\"order_date\", inplace=True)\n",
    "    df.reset_index(drop=True, inplace=True)\n",
    "    return df"
   ]
  },
  {
   "cell_type": "code",
   "execution_count": 3,
   "metadata": {},
   "outputs": [],
   "source": [
    "# Example usage:\n",
    "sales_df = generate_sales_data(num_records=1000)\n",
    "sales_df.to_csv(\"data/sales_data.csv\", index=False)"
   ]
  }
 ],
 "metadata": {
  "kernelspec": {
   "display_name": "venv",
   "language": "python",
   "name": "python3"
  },
  "language_info": {
   "codemirror_mode": {
    "name": "ipython",
    "version": 3
   },
   "file_extension": ".py",
   "mimetype": "text/x-python",
   "name": "python",
   "nbconvert_exporter": "python",
   "pygments_lexer": "ipython3",
   "version": "3.13.0"
  }
 },
 "nbformat": 4,
 "nbformat_minor": 2
}
